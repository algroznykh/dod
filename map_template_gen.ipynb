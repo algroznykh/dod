{
 "cells": [
  {
   "cell_type": "code",
   "execution_count": 3,
   "metadata": {},
   "outputs": [],
   "source": [
    "import os"
   ]
  },
  {
   "cell_type": "code",
   "execution_count": 28,
   "metadata": {},
   "outputs": [],
   "source": [
    "panos = [f for f in os.listdir('media/pano')]"
   ]
  },
  {
   "cell_type": "code",
   "execution_count": 30,
   "metadata": {},
   "outputs": [],
   "source": [
    "TEMPLATE = \"\"\"{\n",
    "        position: [0, 0, -15],\n",
    "        rotation: [0, 0, 0]\n",
    "    },\"\"\""
   ]
  },
  {
   "cell_type": "code",
   "execution_count": 15,
   "metadata": {},
   "outputs": [],
   "source": [
    "import json\n",
    "media = json.loads(\"{\\\"media/pano/sky.jpg\\\":{\\\"position\\\":[0,0,0],\\\"rotation\\\":[0,0,0]},\\\"media/pano/mirror.jpg\\\":{\\\"position\\\":[0,0,-15],\\\"rotation\\\":[0,0,0]},\\\"media/pano/volnolom.jpg\\\":{\\\"position\\\":[0,0,-15],\\\"rotation\\\":[0,0,0]},\\\"media/pano/sunset1.jpg\\\":{\\\"position\\\":[0,0,-15],\\\"rotation\\\":[0,0,0]},\\\"media/pano/beach.jpg\\\":{\\\"position\\\":[0,0,-15],\\\"rotation\\\":[0,0,0]},\\\"media/pano/beach2.jpg\\\":{\\\"position\\\":[0,0,-15],\\\"rotation\\\":[0,0,0]},\\\"media/pano/beach3.jpg\\\":{\\\"position\\\":[0,0,-5.209999999999996],\\\"rotation\\\":[0,0,0]},\\\"media/pano/beach4.jpg\\\":{\\\"position\\\":[0,0,-6.069400000000141],\\\"rotation\\\":[0,0,0]},\\\"media/pano/beach5.jpg\\\":{\\\"position\\\":[0,0,-7.045200000000132],\\\"rotation\\\":[0,0,0]},\\\"media/pano/dead2.jpg\\\":{\\\"position\\\":[0,0,-7.9272000000001155],\\\"rotation\\\":[0,0,0]},\\\"media/pano/end.jpg\\\":{\\\"position\\\":[0,0,-15],\\\"rotation\\\":[0,0,0]},\\\"media/pano/forest.jpg\\\":{\\\"position\\\":[0,0,-15],\\\"rotation\\\":[0,0,0]},\\\"media/vid/rocks.mp4\\\":{\\\"position\\\":[0,0,-4.230000000000004],\\\"rotation\\\":[0,0,0]},\\\"media/pano/heart.jpg\\\":{\\\"position\\\":[0,0,-15],\\\"rotation\\\":[0,0,0]},\\\"media/pano/kaliningrad.jpg\\\":{\\\"position\\\":[0.08599371155190408,-0.10036975023420398,-0.8570687456741443],\\\"rotation\\\":[-0.11657717693857553,-0.0993257277018555,-0.011612215547381956]},\\\"media/pano/kanal.jpg\\\":{\\\"position\\\":[0,0,-2.2685999999999993],\\\"rotation\\\":[0,0,0]},\\\"media/pano/kant.jpg\\\":{\\\"position\\\":[0,0,-3.2500000000000027],\\\"rotation\\\":[0,0,0]},\\\"media/pano/mayak.jpg\\\":{\\\"position\\\":[0,0,-15],\\\"rotation\\\":[0,0,0]},\\\"media/pano/moon.jpg\\\":{\\\"position\\\":[0,0,-15],\\\"rotation\\\":[0,0,0]}}\")"
   ]
  },
  {
   "cell_type": "code",
   "execution_count": 20,
   "metadata": {},
   "outputs": [
    {
     "data": {
      "text/plain": [
       "True"
      ]
     },
     "execution_count": 20,
     "metadata": {},
     "output_type": "execute_result"
    }
   ],
   "source": [
    "list(media.keys())[1] in media.keys()"
   ]
  },
  {
   "cell_type": "code",
   "execution_count": 31,
   "metadata": {},
   "outputs": [
    {
     "name": "stdout",
     "output_type": "stream",
     "text": [
      "MEDIA_MAP = {\n",
      "'media/pano/dead.jpg': {\n",
      "        position: [0, 0, -15],\n",
      "        rotation: [0, 0, 0]\n",
      "    },\n",
      "'media/pano/volnolom3.jpg': {\n",
      "        position: [0, 0, -15],\n",
      "        rotation: [0, 0, 0]\n",
      "    },\n",
      "'media/pano/volnolom2.jpg': {\n",
      "        position: [0, 0, -15],\n",
      "        rotation: [0, 0, 0]\n",
      "    },\n",
      "'media/pano/tree.jpg': {\n",
      "        position: [0, 0, -15],\n",
      "        rotation: [0, 0, 0]\n",
      "    },\n",
      "'media/pano/tower_inside.jpg': {\n",
      "        position: [0, 0, -15],\n",
      "        rotation: [0, 0, 0]\n",
      "    },\n",
      "'media/pano/tower.jpg': {\n",
      "        position: [0, 0, -15],\n",
      "        rotation: [0, 0, 0]\n",
      "    },\n",
      "'media/pano/sunset6.jpg': {\n",
      "        position: [0, 0, -15],\n",
      "        rotation: [0, 0, 0]\n",
      "    },\n",
      "'media/pano/sunset5.jpg': {\n",
      "        position: [0, 0, -15],\n",
      "        rotation: [0, 0, 0]\n",
      "    },\n",
      "'media/pano/sunset4.jpg': {\n",
      "        position: [0, 0, -15],\n",
      "        rotation: [0, 0, 0]\n",
      "    },\n",
      "'media/pano/sunset3.jpg': {\n",
      "        position: [0, 0, -15],\n",
      "        rotation: [0, 0, 0]\n",
      "    },\n",
      "'media/pano/sunset2.jpg': {\n",
      "        position: [0, 0, -15],\n",
      "        rotation: [0, 0, 0]\n",
      "    },\n",
      "};\n"
     ]
    }
   ],
   "source": [
    "print(\"MEDIA_MAP = {\")\n",
    "for name in panos:\n",
    "    if \"media/pano/\" + name not in media.keys():\n",
    "        print(\"'media/pano/\" + name + \"': \" + TEMPLATE)\n",
    "print(\"};\")"
   ]
  },
  {
   "cell_type": "code",
   "execution_count": 27,
   "metadata": {},
   "outputs": [
    {
     "name": "stdout",
     "output_type": "stream",
     "text": [
      "/home/alg/dod\n"
     ]
    }
   ],
   "source": [
    "%cd ~/dod"
   ]
  }
 ],
 "metadata": {
  "kernelspec": {
   "display_name": "Python 3",
   "language": "python",
   "name": "python3"
  },
  "language_info": {
   "codemirror_mode": {
    "name": "ipython",
    "version": 3
   },
   "file_extension": ".py",
   "mimetype": "text/x-python",
   "name": "python",
   "nbconvert_exporter": "python",
   "pygments_lexer": "ipython3",
   "version": "3.8.5"
  }
 },
 "nbformat": 4,
 "nbformat_minor": 2
}
